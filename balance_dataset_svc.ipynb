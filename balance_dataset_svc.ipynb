{
  "metadata": {
    "kernelspec": {
      "language": "python",
      "display_name": "Python 3",
      "name": "python3"
    },
    "language_info": {
      "name": "python",
      "version": "3.7.10",
      "mimetype": "text/x-python",
      "codemirror_mode": {
        "name": "ipython",
        "version": 3
      },
      "pygments_lexer": "ipython3",
      "nbconvert_exporter": "python",
      "file_extension": ".py"
    },
    "colab": {
      "provenance": [],
      "include_colab_link": true
    }
  },
  "nbformat_minor": 0,
  "nbformat": 4,
  "cells": [
    {
      "cell_type": "markdown",
      "metadata": {
        "id": "view-in-github",
        "colab_type": "text"
      },
      "source": [
        "<a href=\"https://colab.research.google.com/github/igors96/SVClassifier_Balance/blob/main/balance_dataset_svc.ipynb\" target=\"_parent\"><img src=\"https://colab.research.google.com/assets/colab-badge.svg\" alt=\"Open In Colab\"/></a>"
      ]
    },
    {
      "cell_type": "code",
      "source": [
        "import pandas as pd\n",
        "arquivo = pd.read_csv('http://archive.ics.uci.edu/ml/machine-learning-databases/balance-scale/balance-scale.data', names = ['Class',\n",
        "                    'Left-Weight', 'Left-Distance', 'Right-Weight', 'Right-Distance'])"
      ],
      "metadata": {
        "execution": {
          "iopub.status.busy": "2022-10-22T15:50:11.680609Z",
          "iopub.execute_input": "2022-10-22T15:50:11.681273Z",
          "iopub.status.idle": "2022-10-22T15:50:11.863502Z",
          "shell.execute_reply.started": "2022-10-22T15:50:11.681174Z",
          "shell.execute_reply": "2022-10-22T15:50:11.862561Z"
        },
        "trusted": true,
        "id": "VVvK0IiEc4n_"
      },
      "execution_count": 1,
      "outputs": []
    },
    {
      "cell_type": "code",
      "source": [
        "arquivo.head()"
      ],
      "metadata": {
        "execution": {
          "iopub.status.busy": "2022-10-22T15:50:11.865427Z",
          "iopub.execute_input": "2022-10-22T15:50:11.866161Z",
          "iopub.status.idle": "2022-10-22T15:50:11.888041Z",
          "shell.execute_reply.started": "2022-10-22T15:50:11.866118Z",
          "shell.execute_reply": "2022-10-22T15:50:11.886909Z"
        },
        "trusted": true,
        "colab": {
          "base_uri": "https://localhost:8080/",
          "height": 206
        },
        "id": "6HoGJI6Fc4oE",
        "outputId": "7b9012d2-7752-45aa-f092-5b67198296a6"
      },
      "execution_count": 2,
      "outputs": [
        {
          "output_type": "execute_result",
          "data": {
            "text/plain": [
              "  Class  Left-Weight  Left-Distance  Right-Weight  Right-Distance\n",
              "0     B            1              1             1               1\n",
              "1     R            1              1             1               2\n",
              "2     R            1              1             1               3\n",
              "3     R            1              1             1               4\n",
              "4     R            1              1             1               5"
            ],
            "text/html": [
              "\n",
              "  <div id=\"df-fea1408d-cbd0-4696-b36b-5c8d5f118efa\">\n",
              "    <div class=\"colab-df-container\">\n",
              "      <div>\n",
              "<style scoped>\n",
              "    .dataframe tbody tr th:only-of-type {\n",
              "        vertical-align: middle;\n",
              "    }\n",
              "\n",
              "    .dataframe tbody tr th {\n",
              "        vertical-align: top;\n",
              "    }\n",
              "\n",
              "    .dataframe thead th {\n",
              "        text-align: right;\n",
              "    }\n",
              "</style>\n",
              "<table border=\"1\" class=\"dataframe\">\n",
              "  <thead>\n",
              "    <tr style=\"text-align: right;\">\n",
              "      <th></th>\n",
              "      <th>Class</th>\n",
              "      <th>Left-Weight</th>\n",
              "      <th>Left-Distance</th>\n",
              "      <th>Right-Weight</th>\n",
              "      <th>Right-Distance</th>\n",
              "    </tr>\n",
              "  </thead>\n",
              "  <tbody>\n",
              "    <tr>\n",
              "      <th>0</th>\n",
              "      <td>B</td>\n",
              "      <td>1</td>\n",
              "      <td>1</td>\n",
              "      <td>1</td>\n",
              "      <td>1</td>\n",
              "    </tr>\n",
              "    <tr>\n",
              "      <th>1</th>\n",
              "      <td>R</td>\n",
              "      <td>1</td>\n",
              "      <td>1</td>\n",
              "      <td>1</td>\n",
              "      <td>2</td>\n",
              "    </tr>\n",
              "    <tr>\n",
              "      <th>2</th>\n",
              "      <td>R</td>\n",
              "      <td>1</td>\n",
              "      <td>1</td>\n",
              "      <td>1</td>\n",
              "      <td>3</td>\n",
              "    </tr>\n",
              "    <tr>\n",
              "      <th>3</th>\n",
              "      <td>R</td>\n",
              "      <td>1</td>\n",
              "      <td>1</td>\n",
              "      <td>1</td>\n",
              "      <td>4</td>\n",
              "    </tr>\n",
              "    <tr>\n",
              "      <th>4</th>\n",
              "      <td>R</td>\n",
              "      <td>1</td>\n",
              "      <td>1</td>\n",
              "      <td>1</td>\n",
              "      <td>5</td>\n",
              "    </tr>\n",
              "  </tbody>\n",
              "</table>\n",
              "</div>\n",
              "      <button class=\"colab-df-convert\" onclick=\"convertToInteractive('df-fea1408d-cbd0-4696-b36b-5c8d5f118efa')\"\n",
              "              title=\"Convert this dataframe to an interactive table.\"\n",
              "              style=\"display:none;\">\n",
              "        \n",
              "  <svg xmlns=\"http://www.w3.org/2000/svg\" height=\"24px\"viewBox=\"0 0 24 24\"\n",
              "       width=\"24px\">\n",
              "    <path d=\"M0 0h24v24H0V0z\" fill=\"none\"/>\n",
              "    <path d=\"M18.56 5.44l.94 2.06.94-2.06 2.06-.94-2.06-.94-.94-2.06-.94 2.06-2.06.94zm-11 1L8.5 8.5l.94-2.06 2.06-.94-2.06-.94L8.5 2.5l-.94 2.06-2.06.94zm10 10l.94 2.06.94-2.06 2.06-.94-2.06-.94-.94-2.06-.94 2.06-2.06.94z\"/><path d=\"M17.41 7.96l-1.37-1.37c-.4-.4-.92-.59-1.43-.59-.52 0-1.04.2-1.43.59L10.3 9.45l-7.72 7.72c-.78.78-.78 2.05 0 2.83L4 21.41c.39.39.9.59 1.41.59.51 0 1.02-.2 1.41-.59l7.78-7.78 2.81-2.81c.8-.78.8-2.07 0-2.86zM5.41 20L4 18.59l7.72-7.72 1.47 1.35L5.41 20z\"/>\n",
              "  </svg>\n",
              "      </button>\n",
              "      \n",
              "  <style>\n",
              "    .colab-df-container {\n",
              "      display:flex;\n",
              "      flex-wrap:wrap;\n",
              "      gap: 12px;\n",
              "    }\n",
              "\n",
              "    .colab-df-convert {\n",
              "      background-color: #E8F0FE;\n",
              "      border: none;\n",
              "      border-radius: 50%;\n",
              "      cursor: pointer;\n",
              "      display: none;\n",
              "      fill: #1967D2;\n",
              "      height: 32px;\n",
              "      padding: 0 0 0 0;\n",
              "      width: 32px;\n",
              "    }\n",
              "\n",
              "    .colab-df-convert:hover {\n",
              "      background-color: #E2EBFA;\n",
              "      box-shadow: 0px 1px 2px rgba(60, 64, 67, 0.3), 0px 1px 3px 1px rgba(60, 64, 67, 0.15);\n",
              "      fill: #174EA6;\n",
              "    }\n",
              "\n",
              "    [theme=dark] .colab-df-convert {\n",
              "      background-color: #3B4455;\n",
              "      fill: #D2E3FC;\n",
              "    }\n",
              "\n",
              "    [theme=dark] .colab-df-convert:hover {\n",
              "      background-color: #434B5C;\n",
              "      box-shadow: 0px 1px 3px 1px rgba(0, 0, 0, 0.15);\n",
              "      filter: drop-shadow(0px 1px 2px rgba(0, 0, 0, 0.3));\n",
              "      fill: #FFFFFF;\n",
              "    }\n",
              "  </style>\n",
              "\n",
              "      <script>\n",
              "        const buttonEl =\n",
              "          document.querySelector('#df-fea1408d-cbd0-4696-b36b-5c8d5f118efa button.colab-df-convert');\n",
              "        buttonEl.style.display =\n",
              "          google.colab.kernel.accessAllowed ? 'block' : 'none';\n",
              "\n",
              "        async function convertToInteractive(key) {\n",
              "          const element = document.querySelector('#df-fea1408d-cbd0-4696-b36b-5c8d5f118efa');\n",
              "          const dataTable =\n",
              "            await google.colab.kernel.invokeFunction('convertToInteractive',\n",
              "                                                     [key], {});\n",
              "          if (!dataTable) return;\n",
              "\n",
              "          const docLinkHtml = 'Like what you see? Visit the ' +\n",
              "            '<a target=\"_blank\" href=https://colab.research.google.com/notebooks/data_table.ipynb>data table notebook</a>'\n",
              "            + ' to learn more about interactive tables.';\n",
              "          element.innerHTML = '';\n",
              "          dataTable['output_type'] = 'display_data';\n",
              "          await google.colab.output.renderOutput(dataTable, element);\n",
              "          const docLink = document.createElement('div');\n",
              "          docLink.innerHTML = docLinkHtml;\n",
              "          element.appendChild(docLink);\n",
              "        }\n",
              "      </script>\n",
              "    </div>\n",
              "  </div>\n",
              "  "
            ]
          },
          "metadata": {},
          "execution_count": 2
        }
      ]
    },
    {
      "cell_type": "code",
      "source": [
        "x = arquivo.drop('Class', axis = 1)\n",
        "y = arquivo['Class']"
      ],
      "metadata": {
        "execution": {
          "iopub.status.busy": "2022-10-22T15:50:11.889469Z",
          "iopub.execute_input": "2022-10-22T15:50:11.889874Z",
          "iopub.status.idle": "2022-10-22T15:50:11.901422Z",
          "shell.execute_reply.started": "2022-10-22T15:50:11.889839Z",
          "shell.execute_reply": "2022-10-22T15:50:11.900364Z"
        },
        "trusted": true,
        "id": "T7UEp358c4oH"
      },
      "execution_count": 3,
      "outputs": []
    },
    {
      "cell_type": "code",
      "source": [
        "from sklearn.svm import SVC\n",
        "from sklearn.model_selection import StratifiedKFold\n",
        "from sklearn.model_selection import cross_val_score\n",
        "from sklearn.preprocessing import MinMaxScaler\n",
        "\n",
        "normalizador = MinMaxScaler(feature_range = (0,1))\n",
        "x_norm = normalizador.fit_transform(x)\n",
        "\n",
        "modelo = SVC()\n",
        "kfold = StratifiedKFold(n_splits = 3, shuffle = True)\n",
        "resultado = cross_val_score(modelo,x_norm,y,cv = kfold, n_jobs = -1)\n",
        "print(resultado.mean())"
      ],
      "metadata": {
        "execution": {
          "iopub.status.busy": "2022-10-22T15:50:11.903606Z",
          "iopub.execute_input": "2022-10-22T15:50:11.904040Z",
          "iopub.status.idle": "2022-10-22T15:50:15.302574Z",
          "shell.execute_reply.started": "2022-10-22T15:50:11.904000Z",
          "shell.execute_reply": "2022-10-22T15:50:15.301867Z"
        },
        "trusted": true,
        "colab": {
          "base_uri": "https://localhost:8080/"
        },
        "id": "A5plVOG1c4oH",
        "outputId": "6310f51f-27a5-4232-ded5-b1a558df6857"
      },
      "execution_count": 4,
      "outputs": [
        {
          "output_type": "stream",
          "name": "stdout",
          "text": [
            "0.9023892773892773\n"
          ]
        }
      ]
    },
    {
      "cell_type": "code",
      "source": [
        "import numpy as np\n",
        "from sklearn.model_selection import GridSearchCV\n",
        "\n",
        "c = np.array([1.0,0.95,1.05,1.1,1.2,2,0.9,0.8])\n",
        "kernel = ['linear', 'poly', 'rbf', 'sigmoid']\n",
        "polinomio = np.array([2,3,4,5])\n",
        "gamma = ['auto', 'scale']\n",
        "valores_grid = {'C': c, 'kernel': kernel, 'degree': polinomio, 'gamma': gamma}\n",
        "\n",
        "modelo1 = SVC()\n",
        "\n",
        "kfold1 = StratifiedKFold(n_splits = 3, shuffle = True)\n",
        "gridSVC = GridSearchCV(estimator = modelo1, param_grid = valores_grid, cv = kfold1, n_jobs = -1)\n",
        "gridSVC.fit(x_norm, y)\n",
        "\n",
        "print('Melhor valor constante: ', gridSVC.best_estimator_.C)\n",
        "print('Melhor kernel: ', gridSVC.best_estimator_.kernel)\n",
        "print('Melhor grau polinômio: ', gridSVC.best_estimator_.degree)\n",
        "print('Melhor epsilon: ', gridSVC.best_estimator_.gamma)\n",
        "print('R2: ', gridSVC.best_score_)"
      ],
      "metadata": {
        "execution": {
          "iopub.status.busy": "2022-10-22T15:50:15.303814Z",
          "iopub.execute_input": "2022-10-22T15:50:15.304047Z",
          "iopub.status.idle": "2022-10-22T15:50:17.969035Z",
          "shell.execute_reply.started": "2022-10-22T15:50:15.304019Z",
          "shell.execute_reply": "2022-10-22T15:50:17.968120Z"
        },
        "trusted": true,
        "colab": {
          "base_uri": "https://localhost:8080/"
        },
        "id": "PKkV62_8c4oI",
        "outputId": "e3bf64ec-f4f5-44e7-9faf-6712c666f7f3"
      },
      "execution_count": 5,
      "outputs": [
        {
          "output_type": "stream",
          "name": "stdout",
          "text": [
            "Melhor valor constante:  2.0\n",
            "Melhor kernel:  poly\n",
            "Melhor grau polinômio:  2\n",
            "Melhor epsilon:  scale\n",
            "R2:  0.94400993743099\n"
          ]
        }
      ]
    },
    {
      "cell_type": "code",
      "source": [
        "import numpy as np\n",
        "from sklearn.model_selection import GridSearchCV\n",
        "\n",
        "c = np.array([3.0,4.0,5.0,6.0,7.0,8.0,9.0,10.0])\n",
        "kernel = ['linear', 'poly', 'rbf', 'sigmoid']\n",
        "polinomio = np.array([2,3,4,5])\n",
        "gamma = ['auto', 'scale']\n",
        "valores_grid = {'C': c, 'kernel': kernel, 'degree': polinomio, 'gamma': gamma}\n",
        "\n",
        "modelo1 = SVC()\n",
        "\n",
        "kfold1 = StratifiedKFold(n_splits = 3, shuffle = True)\n",
        "gridSVC = GridSearchCV(estimator = modelo1, param_grid = valores_grid, cv = kfold1, n_jobs = -1)\n",
        "gridSVC.fit(x_norm, y)\n",
        "\n",
        "print('Melhor valor constante: ', gridSVC.best_estimator_.C)\n",
        "print('Melhor kernel: ', gridSVC.best_estimator_.kernel)\n",
        "print('Melhor grau polinômio: ', gridSVC.best_estimator_.degree)\n",
        "print('Melhor epsilon: ', gridSVC.best_estimator_.gamma)\n",
        "print('R2: ', gridSVC.best_score_)"
      ],
      "metadata": {
        "execution": {
          "iopub.status.busy": "2022-10-22T15:50:17.970325Z",
          "iopub.execute_input": "2022-10-22T15:50:17.970542Z",
          "iopub.status.idle": "2022-10-22T15:50:19.968798Z",
          "shell.execute_reply.started": "2022-10-22T15:50:17.970516Z",
          "shell.execute_reply": "2022-10-22T15:50:19.968086Z"
        },
        "trusted": true,
        "colab": {
          "base_uri": "https://localhost:8080/"
        },
        "id": "_aiOrRX1c4oJ",
        "outputId": "6b41c5c3-477a-4312-eaee-c88c087232ec"
      },
      "execution_count": 6,
      "outputs": [
        {
          "output_type": "stream",
          "name": "stdout",
          "text": [
            "Melhor valor constante:  10.0\n",
            "Melhor kernel:  poly\n",
            "Melhor grau polinômio:  3\n",
            "Melhor epsilon:  scale\n",
            "R2:  0.9695972886762361\n"
          ]
        }
      ]
    }
  ]
}